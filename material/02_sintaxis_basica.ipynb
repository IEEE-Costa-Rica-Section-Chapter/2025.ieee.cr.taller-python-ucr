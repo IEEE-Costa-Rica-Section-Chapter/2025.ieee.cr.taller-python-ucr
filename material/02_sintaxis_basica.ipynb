{
 "cells": [
  {
   "cell_type": "markdown",
   "metadata": {},
   "source": [
    "# **Taller de Python**\n",
    "\n",
    "**Tallerista:** Erick Andrés Obregón Fonseca.\n",
    "\n",
    "**Contacto:** [erickof@ieee.org](mailto:erickof@ieee.org)\n",
    "\n",
    "**Versión de Python:** 3.13.2"
   ]
  },
  {
   "cell_type": "markdown",
   "metadata": {},
   "source": [
    "# **Sintaxis Básica**\n",
    "\n",
    "Python es un lenguaje de programación conocido por su sintaxis sencilla y fácil de leer, lo que lo convierte en una excelente opción para quienes se inician en la programación."
   ]
  },
  {
   "cell_type": "markdown",
   "metadata": {},
   "source": [
    "## **1. ¿Qué es una variables?**\n",
    "\n",
    "Una variable es como una cajita con nombre donde guardamos información para usarla más tarde.\n",
    "\n",
    "Se puede guardar:\n",
    "\n",
    "1. Un número `edad = 18`\n",
    "\n",
    "2. Un texto `nombre = \"Ana\"`\n",
    "\n",
    "3. O cualquier cosa que se quiera usar después."
   ]
  },
  {
   "cell_type": "markdown",
   "metadata": {},
   "source": [
    "## **2. ¿Para qué sirven?**\n",
    "\n",
    "Sirven para:\n",
    "\n",
    "1. Guardar valores.\n",
    "\n",
    "2. Usarlos en operaciones o decisiones."
   ]
  },
  {
   "cell_type": "markdown",
   "metadata": {},
   "source": [
    "### **2.1. Ejemplo**"
   ]
  },
  {
   "cell_type": "code",
   "execution_count": 13,
   "metadata": {},
   "outputs": [],
   "source": [
    "# Cadena de texto (str)\n",
    "nombre = \"Erick\"\n",
    "# Número entero (int)\n",
    "edad = 27\n",
    "# Número de punto flotante (float)\n",
    "altura = 1.87\n",
    "# Booleano (bool) # True or False\n",
    "es_estudiante = True"
   ]
  },
  {
   "cell_type": "code",
   "execution_count": 10,
   "metadata": {},
   "outputs": [
    {
     "data": {
      "text/plain": [
       "'Erick'"
      ]
     },
     "execution_count": 10,
     "metadata": {},
     "output_type": "execute_result"
    }
   ],
   "source": [
    "nombre"
   ]
  },
  {
   "cell_type": "code",
   "execution_count": 12,
   "metadata": {},
   "outputs": [
    {
     "data": {
      "text/plain": [
       "27"
      ]
     },
     "execution_count": 12,
     "metadata": {},
     "output_type": "execute_result"
    }
   ],
   "source": [
    "edad"
   ]
  },
  {
   "cell_type": "code",
   "execution_count": 14,
   "metadata": {},
   "outputs": [
    {
     "data": {
      "text/plain": [
       "1.87"
      ]
     },
     "execution_count": 14,
     "metadata": {},
     "output_type": "execute_result"
    }
   ],
   "source": [
    "altura"
   ]
  },
  {
   "cell_type": "code",
   "execution_count": 7,
   "metadata": {},
   "outputs": [
    {
     "data": {
      "text/plain": [
       "True"
      ]
     },
     "execution_count": 7,
     "metadata": {},
     "output_type": "execute_result"
    }
   ],
   "source": [
    "es_estudiante"
   ]
  },
  {
   "cell_type": "markdown",
   "metadata": {},
   "source": [
    "## **3. Tipos de Datos Básicos en Python**\n",
    "\n",
    "### **3.1. `int` – Números enteros**\n",
    "\n",
    "Son números sin decimales.\n",
    "\n",
    "\n",
    "\n"
   ]
  },
  {
   "cell_type": "code",
   "execution_count": 15,
   "metadata": {},
   "outputs": [],
   "source": [
    "edad = 18\n",
    "negativo = -5"
   ]
  },
  {
   "cell_type": "code",
   "execution_count": 17,
   "metadata": {},
   "outputs": [
    {
     "data": {
      "text/plain": [
       "-5"
      ]
     },
     "execution_count": 17,
     "metadata": {},
     "output_type": "execute_result"
    }
   ],
   "source": [
    "negativo"
   ]
  },
  {
   "cell_type": "markdown",
   "metadata": {},
   "source": [
    "Se usa cuando quieras contar cosas o trabajar con valores enteros."
   ]
  },
  {
   "cell_type": "markdown",
   "metadata": {},
   "source": [
    "### **3.2. `float` – Números decimales**\n",
    "\n",
    "Son números con decimales."
   ]
  },
  {
   "cell_type": "code",
   "execution_count": null,
   "metadata": {},
   "outputs": [],
   "source": [
    "precio = 9.99\n",
    "altura = 1.75"
   ]
  },
  {
   "cell_type": "code",
   "execution_count": 23,
   "metadata": {},
   "outputs": [
    {
     "data": {
      "text/plain": [
       "1.7533846345836486"
      ]
     },
     "execution_count": 23,
     "metadata": {},
     "output_type": "execute_result"
    }
   ],
   "source": [
    "altura"
   ]
  },
  {
   "cell_type": "markdown",
   "metadata": {},
   "source": [
    "Ideales para medidas, dinero, o cualquier cosa con parte decimal."
   ]
  },
  {
   "cell_type": "markdown",
   "metadata": {},
   "source": [
    "### **3.3. `str` – Cadenas de texto**\n",
    "\n",
    "Son palabras, frases o cualquier texto, siempre entre comillas."
   ]
  },
  {
   "cell_type": "code",
   "execution_count": 25,
   "metadata": {},
   "outputs": [
    {
     "data": {
      "text/plain": [
       "'Hola mi nombre es Erick y tengo 27 años. Mido 1.87 metros y soy estudiante. Me gusta tocar la guitarra y jugar videojuegos.'"
      ]
     },
     "execution_count": 25,
     "metadata": {},
     "output_type": "execute_result"
    }
   ],
   "source": [
    "nombre = \"Carlos\"\n",
    "mensaje = \"Hola mundo\"\n",
    "texto = \"Hola mi nombre es Erick y tengo 27 años. Mido 1.87 metros y soy estudiante. Me gusta tocar la guitarra y jugar videojuegos.\"\n",
    "\n",
    "texto"
   ]
  },
  {
   "cell_type": "markdown",
   "metadata": {},
   "source": [
    "Todo lo que esté entre \"comillas\" (simples o dobles) es un `str`."
   ]
  },
  {
   "cell_type": "markdown",
   "metadata": {},
   "source": [
    "### **3.4. `bool` – Valores lógicos**\n",
    "\n",
    "Solo hay dos posibles: True (verdadero) y False (falso)."
   ]
  },
  {
   "cell_type": "code",
   "execution_count": 26,
   "metadata": {},
   "outputs": [],
   "source": [
    "es_mayor = True\n",
    "tiene_permiso = False"
   ]
  },
  {
   "cell_type": "markdown",
   "metadata": {},
   "source": [
    "Se usan para hacer preguntas como: \"¿Es mayor de edad?\", \"¿Está encendido?\", etc."
   ]
  },
  {
   "cell_type": "markdown",
   "metadata": {},
   "source": [
    "#### **3.5. ¿Y cómo se usan?**"
   ]
  },
  {
   "cell_type": "code",
   "execution_count": 27,
   "metadata": {},
   "outputs": [],
   "source": [
    "# int\n",
    "edad = 25\n",
    "# float\n",
    "estatura = 1.70\n",
    "# str\n",
    "nombre = \"Ana\"\n",
    "# bool\n",
    "es_estudiante = True"
   ]
  },
  {
   "cell_type": "code",
   "execution_count": 28,
   "metadata": {},
   "outputs": [
    {
     "data": {
      "text/plain": [
       "'Ana'"
      ]
     },
     "execution_count": 28,
     "metadata": {},
     "output_type": "execute_result"
    }
   ],
   "source": [
    "nombre"
   ]
  },
  {
   "cell_type": "code",
   "execution_count": 29,
   "metadata": {},
   "outputs": [
    {
     "data": {
      "text/plain": [
       "25"
      ]
     },
     "execution_count": 29,
     "metadata": {},
     "output_type": "execute_result"
    }
   ],
   "source": [
    "edad"
   ]
  },
  {
   "cell_type": "code",
   "execution_count": 30,
   "metadata": {},
   "outputs": [
    {
     "data": {
      "text/plain": [
       "1.7"
      ]
     },
     "execution_count": 30,
     "metadata": {},
     "output_type": "execute_result"
    }
   ],
   "source": [
    "estatura"
   ]
  },
  {
   "cell_type": "code",
   "execution_count": 31,
   "metadata": {},
   "outputs": [
    {
     "data": {
      "text/plain": [
       "True"
      ]
     },
     "execution_count": 31,
     "metadata": {},
     "output_type": "execute_result"
    }
   ],
   "source": [
    "es_estudiante"
   ]
  },
  {
   "cell_type": "markdown",
   "metadata": {},
   "source": [
    "## **4. ¿Qué son los comentarios en Python?**\n",
    "\n",
    "Un comentario es una línea de texto que no se ejecuta, sirve solo para que los humanos entiendan mejor el código."
   ]
  },
  {
   "cell_type": "markdown",
   "metadata": {},
   "source": [
    "### **4.1. ¿Para qué sirven?**\n",
    "\n",
    "1. Explicar lo que hace el código.\n",
    "\n",
    "2. Dejar notas o recordatorios.\n",
    "\n",
    "3. Desactivar líneas sin borrarlas (temporalmente)"
   ]
  },
  {
   "cell_type": "markdown",
   "metadata": {},
   "source": [
    "### **4.2. ¿Cómo se escribe un comentario?**\n",
    "\n",
    "Se usa el símbolo `#`, y todo lo que esté después será ignorado por Python."
   ]
  },
  {
   "cell_type": "code",
   "execution_count": null,
   "metadata": {},
   "outputs": [
    {
     "data": {
      "text/plain": [
       "15"
      ]
     },
     "execution_count": 36,
     "metadata": {},
     "output_type": "execute_result"
    }
   ],
   "source": [
    "# Se calcula el area de un rectangulo\n",
    "base = 5\n",
    "altura = 3\n",
    "# Se multiplica base por altura\n",
    "area = base * altura\n",
    "\n",
    "area"
   ]
  },
  {
   "cell_type": "markdown",
   "metadata": {},
   "source": [
    "### **4.3. ¿Cómo hacer comentarios multilínea en Python?**"
   ]
  },
  {
   "cell_type": "markdown",
   "metadata": {},
   "source": [
    "#### **4.3.1. Opción 1: Usar `#` en cada línea**\n",
    "\n",
    "La forma más común y recomendada es poner # al inicio de cada línea que se quiere comentar:\n",
    "\n",
    "```python\n",
    "# Este programa calcula el promedio de tres notas\n",
    "# Pedimos al usuario que ingrese las notas\n",
    "# Luego mostramos el resultado\n",
    "```\n",
    "\n",
    "Esta es la forma \"real\" de hacer comentarios multilínea en Python."
   ]
  },
  {
   "cell_type": "markdown",
   "metadata": {},
   "source": [
    "#### **4.3.2. Opción 2: Usar triple comillas `\"\"\" \"\"\"` o `''' '''`**\n",
    "\n",
    "Python también permite escribir bloques de texto entre triple comillas, que no se ejecutan si no se asignan a una variable, y a veces se usan como comentarios rápidos:\n",
    "\n",
    "```python\n",
    "\"\"\"\n",
    "Este es un comentario de varias líneas.\n",
    "No será ejecutado por Python,\n",
    "pero no es técnicamente un comentario.\n",
    "\"\"\"\n",
    "```"
   ]
  },
  {
   "cell_type": "markdown",
   "metadata": {},
   "source": [
    "## **5. Operaciones matemáticas simples**\n",
    "\n",
    "Python puede hacer cálculos como si fuera una calculadora, usando símbolos muy parecidos.\n",
    "\n",
    "|    Operación    | Símbolo | Ejemplo  | Resultado |\n",
    "|:---------------:|:-------:|:--------:|:---------:|\n",
    "|      Suma       |   `+`   | `5 + 3`  |    `8`    |\n",
    "|      Resta      |   `-`   | `7 + 2`  |    `5`    |\n",
    "| Multiplicación  |   `*`   | `4 * 6`  |    `24`   |\n",
    "|     División    |   `/`   | `8 / 2`  |   `4.0`   |\n",
    "| División entera |   `//`  | `9 // 2` |    `4`    |\n",
    "| Módulo (resto)  |   `%`   | `9 % 2`  |    `1`    |\n",
    "|     Potencia    |   `**`  | `2 ** 3` |    `8`    |\n"
   ]
  },
  {
   "cell_type": "markdown",
   "metadata": {},
   "source": [
    "### **5.1. Ejemplo**"
   ]
  },
  {
   "cell_type": "code",
   "execution_count": 37,
   "metadata": {},
   "outputs": [],
   "source": [
    "a = 10\n",
    "b = 3"
   ]
  },
  {
   "cell_type": "code",
   "execution_count": 38,
   "metadata": {},
   "outputs": [
    {
     "data": {
      "text/plain": [
       "13"
      ]
     },
     "execution_count": 38,
     "metadata": {},
     "output_type": "execute_result"
    }
   ],
   "source": [
    "a + b"
   ]
  },
  {
   "cell_type": "code",
   "execution_count": 39,
   "metadata": {},
   "outputs": [
    {
     "data": {
      "text/plain": [
       "7"
      ]
     },
     "execution_count": 39,
     "metadata": {},
     "output_type": "execute_result"
    }
   ],
   "source": [
    "a - b"
   ]
  },
  {
   "cell_type": "code",
   "execution_count": 40,
   "metadata": {},
   "outputs": [
    {
     "data": {
      "text/plain": [
       "30"
      ]
     },
     "execution_count": 40,
     "metadata": {},
     "output_type": "execute_result"
    }
   ],
   "source": [
    "a * b"
   ]
  },
  {
   "cell_type": "code",
   "execution_count": 41,
   "metadata": {},
   "outputs": [
    {
     "data": {
      "text/plain": [
       "3.3333333333333335"
      ]
     },
     "execution_count": 41,
     "metadata": {},
     "output_type": "execute_result"
    }
   ],
   "source": [
    "a / b"
   ]
  },
  {
   "cell_type": "code",
   "execution_count": 42,
   "metadata": {},
   "outputs": [
    {
     "data": {
      "text/plain": [
       "3"
      ]
     },
     "execution_count": 42,
     "metadata": {},
     "output_type": "execute_result"
    }
   ],
   "source": [
    "a // b"
   ]
  },
  {
   "cell_type": "code",
   "execution_count": 43,
   "metadata": {},
   "outputs": [
    {
     "data": {
      "text/plain": [
       "1"
      ]
     },
     "execution_count": 43,
     "metadata": {},
     "output_type": "execute_result"
    }
   ],
   "source": [
    "a % b"
   ]
  },
  {
   "cell_type": "code",
   "execution_count": 44,
   "metadata": {},
   "outputs": [
    {
     "data": {
      "text/plain": [
       "1000"
      ]
     },
     "execution_count": 44,
     "metadata": {},
     "output_type": "execute_result"
    }
   ],
   "source": [
    "a ** b"
   ]
  },
  {
   "cell_type": "markdown",
   "metadata": {},
   "source": [
    "Python también usa paréntesis para agrupar operaciones, igual que en matemática.\n",
    "\n",
    "Python respeta el orden de operaciones:\n",
    "\n",
    "1. Paréntesis.\n",
    "\n",
    "2. Potencias.\n",
    "\n",
    "3. Multiplicación/división.\n",
    "\n",
    "4. Suma/resta."
   ]
  },
  {
   "cell_type": "code",
   "execution_count": 47,
   "metadata": {},
   "outputs": [
    {
     "data": {
      "text/plain": [
       "20"
      ]
     },
     "execution_count": 47,
     "metadata": {},
     "output_type": "execute_result"
    }
   ],
   "source": [
    "resultado = (2 + 3) * 4\n",
    "resultado"
   ]
  }
 ],
 "metadata": {
  "kernelspec": {
   "display_name": "base",
   "language": "python",
   "name": "python3"
  },
  "language_info": {
   "codemirror_mode": {
    "name": "ipython",
    "version": 3
   },
   "file_extension": ".py",
   "mimetype": "text/x-python",
   "name": "python",
   "nbconvert_exporter": "python",
   "pygments_lexer": "ipython3",
   "version": "3.12.7"
  }
 },
 "nbformat": 4,
 "nbformat_minor": 2
}
