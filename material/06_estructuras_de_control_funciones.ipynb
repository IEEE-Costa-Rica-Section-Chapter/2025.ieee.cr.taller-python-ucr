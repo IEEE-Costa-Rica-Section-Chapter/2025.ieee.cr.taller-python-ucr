{
 "cells": [
  {
   "cell_type": "markdown",
   "metadata": {},
   "source": [
    "# **Taller de Python**\n",
    "\n",
    "**Tallerista:** Erick Andrés Obregón Fonseca.\n",
    "\n",
    "**Contacto:** [erickof@ieee.org](mailto:erickof@ieee.org)\n",
    "\n",
    "**Versión de Python:** 3.13.2"
   ]
  },
  {
   "cell_type": "markdown",
   "metadata": {},
   "source": [
    "# **Funciones**"
   ]
  },
  {
   "cell_type": "markdown",
   "metadata": {},
   "source": [
    "## **1. ¿Qué es una función?**\n",
    "\n",
    "Una función es un bloque de código reutilizable que hace una tarea específica.\n",
    "\n",
    "> Es como una mini máquina: le das algo (entradas), hace algo adentro (procesa) y te da un resultado (salida).\n"
   ]
  },
  {
   "cell_type": "markdown",
   "metadata": {},
   "source": [
    "## **2. ¿Cómo se crea una función?**\n",
    "\n",
    "Se utiliza la palabra clave `def`."
   ]
  },
  {
   "cell_type": "code",
   "execution_count": 4,
   "metadata": {},
   "outputs": [],
   "source": [
    "def saludar():\n",
    "    print(\"¡Hola Erick!\")"
   ]
  },
  {
   "cell_type": "markdown",
   "metadata": {},
   "source": [
    "Y se llama así:"
   ]
  },
  {
   "cell_type": "code",
   "execution_count": 5,
   "metadata": {},
   "outputs": [
    {
     "name": "stdout",
     "output_type": "stream",
     "text": [
      "¡Hola Erick!\n"
     ]
    }
   ],
   "source": [
    "saludar()"
   ]
  },
  {
   "cell_type": "markdown",
   "metadata": {},
   "source": [
    "## **3. Parámetros (entradas)**\n",
    "\n",
    "Son valores que se le pasan a la función para que trabaje con ellos."
   ]
  },
  {
   "cell_type": "code",
   "execution_count": 6,
   "metadata": {},
   "outputs": [],
   "source": [
    "def saludar(nombre):\n",
    "    print(f\"Hola, {nombre}\")"
   ]
  },
  {
   "cell_type": "code",
   "execution_count": 7,
   "metadata": {},
   "outputs": [
    {
     "name": "stdout",
     "output_type": "stream",
     "text": [
      "Hola, Ana\n",
      "Hola, Luis\n"
     ]
    }
   ],
   "source": [
    "saludar(\"Ana\")\n",
    "saludar(\"Luis\")"
   ]
  },
  {
   "cell_type": "markdown",
   "metadata": {},
   "source": [
    "## **4. Retorno (salida)**\n",
    "\n",
    "Se usa `return` para que la función devuelva un resultado."
   ]
  },
  {
   "cell_type": "code",
   "execution_count": 8,
   "metadata": {},
   "outputs": [
    {
     "name": "stdout",
     "output_type": "stream",
     "text": [
      "Hola, Luis\n",
      "None\n"
     ]
    }
   ],
   "source": [
    "# Esta funcion no retorna, solo imprime\n",
    "print(saludar(\"Luis\"))"
   ]
  },
  {
   "cell_type": "code",
   "execution_count": 9,
   "metadata": {},
   "outputs": [],
   "source": [
    "def sumar(num1, num2):\n",
    "    resultado = num1 + num2\n",
    "\n",
    "    return resultado"
   ]
  },
  {
   "cell_type": "code",
   "execution_count": 12,
   "metadata": {},
   "outputs": [
    {
     "data": {
      "text/plain": [
       "7"
      ]
     },
     "execution_count": 12,
     "metadata": {},
     "output_type": "execute_result"
    }
   ],
   "source": [
    "sumar(3, 4)"
   ]
  },
  {
   "cell_type": "code",
   "execution_count": 13,
   "metadata": {},
   "outputs": [
    {
     "name": "stdout",
     "output_type": "stream",
     "text": [
      "La suma es: 7\n"
     ]
    }
   ],
   "source": [
    "print(\"La suma es:\", sumar(3, 4))"
   ]
  },
  {
   "cell_type": "code",
   "execution_count": 14,
   "metadata": {},
   "outputs": [
    {
     "name": "stdout",
     "output_type": "stream",
     "text": [
      "La suma es: 7\n"
     ]
    }
   ],
   "source": [
    "total = sumar(3, 4)\n",
    "\n",
    "print(\"La suma es:\", total)"
   ]
  },
  {
   "cell_type": "markdown",
   "metadata": {},
   "source": [
    "## **5. Ejercicio**\n",
    "\n",
    "Escriba las funciones necesarias para crear una calculadora."
   ]
  },
  {
   "cell_type": "code",
   "execution_count": 24,
   "metadata": {},
   "outputs": [],
   "source": [
    "def sumar(num1, num2):\n",
    "    resultado = num1 + num2\n",
    "\n",
    "    return resultado\n",
    "\n",
    "def restar(num1, num2):\n",
    "    resultado = num1 - num2\n",
    "\n",
    "    return resultado\n",
    "\n",
    "def multiplicar(num1, num2):\n",
    "    resultado = num1 * num2\n",
    "\n",
    "    return resultado\n",
    "\n",
    "def dividir(num1, num2):\n",
    "    resultado = num1 / num2\n",
    "\n",
    "    return resultado"
   ]
  },
  {
   "cell_type": "code",
   "execution_count": 30,
   "metadata": {},
   "outputs": [
    {
     "name": "stdout",
     "output_type": "stream",
     "text": [
      "5 + 3 = 8\n",
      "¡Hasta luego!\n"
     ]
    }
   ],
   "source": [
    "while True:\n",
    "    num1 = int(input(\"Ingrese el primer número: \"))\n",
    "    num2 = int(input(\"Ingrese el segundo número: \"))\n",
    "\n",
    "    operacion = input(\"Ingrese la operación deseada (+, -, *, /)\")\n",
    "\n",
    "    if operacion == \"+\":\n",
    "        resultado = sumar(num1, num2)\n",
    "    elif operacion == \"-\":\n",
    "        resultado = restar(num1, num2)\n",
    "    elif operacion == \"*\":\n",
    "        resultado = multiplicar(num1, num2)\n",
    "    elif operacion == \"/\":\n",
    "        resultado = dividir(num1, num2)\n",
    "    else:\n",
    "        print(\"Operación no válida\")\n",
    "\n",
    "    print(f\"{num1} {operacion} {num2} = {resultado}\")\n",
    "\n",
    "    continuar = input(\"¿Desea realizar otra operación? (s/n): \")\n",
    "\n",
    "    if continuar == 'n':\n",
    "        break\n",
    "\n",
    "print(\"¡Hasta luego!\")"
   ]
  }
 ],
 "metadata": {
  "kernelspec": {
   "display_name": "base",
   "language": "python",
   "name": "python3"
  },
  "language_info": {
   "codemirror_mode": {
    "name": "ipython",
    "version": 3
   },
   "file_extension": ".py",
   "mimetype": "text/x-python",
   "name": "python",
   "nbconvert_exporter": "python",
   "pygments_lexer": "ipython3",
   "version": "3.12.7"
  }
 },
 "nbformat": 4,
 "nbformat_minor": 2
}
