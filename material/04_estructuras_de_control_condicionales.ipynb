{
 "cells": [
  {
   "cell_type": "markdown",
   "metadata": {},
   "source": [
    "# **Taller de Python**\n",
    "\n",
    "**Tallerista:** Erick Andrés Obregón Fonseca.\n",
    "\n",
    "**Contacto:** [erickof@ieee.org](mailto:erickof@ieee.org)\n",
    "\n",
    "**Versión de Python:** 3.13.2"
   ]
  },
  {
   "cell_type": "markdown",
   "metadata": {},
   "source": [
    "## **1. Comparadores**\n",
    "\n",
    "Los comparadores se usan para hacer preguntas y tomar decisiones. Siempre devuelven un valor booleano: `True` (verdadero) o `False` (falso).\n",
    "\n",
    "| Operador |    Significado    | Ejemplo  | Resultado |\n",
    "|:--------:|:-----------------:|:--------:|:---------:|\n",
    "|   `==`   |      Igual a      | `5 == 5` |  `True`   |\n",
    "|   `!=`   |   Diferente de    | `5 != 3` |  `True`   |\n",
    "|   `>`    |     Mayor que     | `7 > 2`  |  `True`   |\n",
    "|   `<`    |     Menor que     | `2 < 1`  |  `False`  |\n",
    "|   `>=`   | Mayor o igual que | `5 >= 5` |  `True`   |\n",
    "|   `<=`   | Menor o igual que | `4 <= 3` |  `False`  |"
   ]
  },
  {
   "cell_type": "code",
   "execution_count": 1,
   "metadata": {},
   "outputs": [
    {
     "name": "stdout",
     "output_type": "stream",
     "text": [
      "True\n"
     ]
    }
   ],
   "source": [
    "edad = int(input(\"¿Qué edad tenés? \"))\n",
    "\n",
    "# ¿Es mayor de edad?\n",
    "print(edad >= 18)"
   ]
  },
  {
   "cell_type": "markdown",
   "metadata": {},
   "source": [
    "## **2. Operadores lógicos**\n",
    "\n",
    "1. **and:** verdadero solo si todas las condiciones son verdaderas.\n",
    "\n",
    "2. **or:** verdadero si al menos una condición es verdadera.\n",
    "\n",
    "3. **not:** niega una condición.\n"
   ]
  },
  {
   "cell_type": "markdown",
   "metadata": {},
   "source": [
    "## **3. Estructuras de control `if`, `elif`, `else`**\n",
    "\n",
    "En Python, se usan estas palabras clave para que el programa tome decisiones.\n",
    "\n",
    "Es como decirle a la computadora:\n",
    "\n",
    "> \"\"Si pasa esto, hacé esto. Si no, pero pasa esto otro, hacé esto otro. Si no pasa nada de eso, hacé esto último.\""
   ]
  },
  {
   "cell_type": "markdown",
   "metadata": {},
   "source": [
    "### **3.1. Estructura básica**\n",
    "\n",
    "```python\n",
    "if condición:\n",
    "    # Código si se cumple la condición\n",
    "elif otra_condición:\n",
    "    # Código si se cumple esta otra\n",
    "else:\n",
    "    # Código si no se cumplió nada de lo anterior\n",
    "```"
   ]
  },
  {
   "cell_type": "markdown",
   "metadata": {},
   "source": [
    "### **3.2. Ejemplo 1 - Edades**"
   ]
  },
  {
   "cell_type": "code",
   "execution_count": 2,
   "metadata": {},
   "outputs": [
    {
     "name": "stdout",
     "output_type": "stream",
     "text": [
      "Sos un adulto\n"
     ]
    }
   ],
   "source": [
    "edad = int(input(\"¿Qué edad tenés? \"))\n",
    "\n",
    "if edad < 13:\n",
    "    print(\"Sos un niño\")\n",
    "elif edad < 18:\n",
    "    print(\"Sos un adolescente\")\n",
    "else:\n",
    "    print(\"Sos un adulto\")"
   ]
  },
  {
   "cell_type": "markdown",
   "metadata": {},
   "source": [
    "### **3.2. Ejemplo 2 - Notas**"
   ]
  },
  {
   "cell_type": "code",
   "execution_count": 3,
   "metadata": {},
   "outputs": [
    {
     "name": "stdout",
     "output_type": "stream",
     "text": [
      "Aprobado\n"
     ]
    }
   ],
   "source": [
    "nota = float(input(\"¿Cuál fue tu nota? \"))\n",
    "\n",
    "if nota >= 90:\n",
    "    print(\"¡Excelente!\")\n",
    "elif nota >= 70:\n",
    "    print(\"Aprobado\")\n",
    "else:\n",
    "    print(\"Desaprobado\")"
   ]
  },
  {
   "cell_type": "markdown",
   "metadata": {},
   "source": [
    "### **3.3. Detalles importantes**\n",
    "\n",
    "1. No hace falta usar `elif` o `else` si no se necesita.\n",
    "\n",
    "2. Se puede tener tantos `elif` como se quiera.\n",
    "\n",
    "3. El `else` es opcional, pero útil para un \"sino\"."
   ]
  },
  {
   "cell_type": "markdown",
   "metadata": {},
   "source": [
    "### **3.4. Resumen**\n",
    "\n",
    "| Palabra clave |             ¿Cuándo se usa?             |\n",
    "|:-------------:|:---------------------------------------:|\n",
    "|     `if`      |        Para la primera condición        |\n",
    "|    `elif`     |     Para otras condiciones posibles     |\n",
    "|    `else`     | Si ninguna condición anterior se cumple |"
   ]
  },
  {
   "cell_type": "markdown",
   "metadata": {},
   "source": [
    "### **4. Ejercicio**\n",
    "\n",
    "¿Cuál es el mayor de tres números?"
   ]
  },
  {
   "cell_type": "code",
   "execution_count": null,
   "metadata": {},
   "outputs": [],
   "source": []
  }
 ],
 "metadata": {
  "kernelspec": {
   "display_name": "base",
   "language": "python",
   "name": "python3"
  },
  "language_info": {
   "codemirror_mode": {
    "name": "ipython",
    "version": 3
   },
   "file_extension": ".py",
   "mimetype": "text/x-python",
   "name": "python",
   "nbconvert_exporter": "python",
   "pygments_lexer": "ipython3",
   "version": "3.12.7"
  }
 },
 "nbformat": 4,
 "nbformat_minor": 2
}
