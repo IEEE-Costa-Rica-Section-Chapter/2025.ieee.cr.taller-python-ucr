{
 "cells": [
  {
   "cell_type": "markdown",
   "metadata": {},
   "source": [
    "# **Taller de Python**\n",
    "\n",
    "**Tallerista:** Erick Andrés Obregón Fonseca.\n",
    "\n",
    "**Contacto:** [erickof@ieee.org](mailto:erickof@ieee.org)\n",
    "\n",
    "**Versión de Python:** 3.13.2"
   ]
  },
  {
   "cell_type": "markdown",
   "metadata": {},
   "source": [
    "# **¿Qué es programar?**\n",
    "Programar es decirle a una computadora qué hacer, paso a paso.\n",
    "Es como escribir una receta de cocina, pero en un idioma que la computadora entiende."
   ]
  },
  {
   "cell_type": "markdown",
   "metadata": {},
   "source": [
    "# **¿Por qué Python?**\n",
    "## **Fácil de leer y escribir**\n",
    "1. Su sintaxis es parecida al inglés.\n",
    "2. Ideal para aprender sin sentirse abrumado.\n",
    "\n",
    "## **Muy popular**\n",
    "1. Lo usan desde principiantes hasta empresas como Google, Netflix o NASA.\n",
    "\n",
    "## **Versátil**\n",
    "Se puede usar para:\n",
    "\n",
    "1. Automatizar tareas.\n",
    "2. Análisis de datos.\n",
    "3. Inteligencia Artificial.\n",
    "4. Desarrollo web.\n",
    "5. Videojuegos.\n",
    "6. Electrónica y robótica."
   ]
  },
  {
   "cell_type": "markdown",
   "metadata": {},
   "source": [
    "# **Historia de Python**\n",
    "\n",
    "Imagina que estamos a finales de los años 80. En el Centro de Matemática y Computación de los Países Bajos, un programador llamado Guido van Rossum buscaba una forma de entretenerse durante las vacaciones de Navidad de 1989. Decidió embarcarse en un proyecto personal: crear un nuevo lenguaje de programación que fuera sencillo y poderoso.\n",
    "\n",
    "Guido quería que este lenguaje fuera tan entretenido y accesible como el famoso programa de comedia británico \"Monty Python's Flying Circus\". Por ello, decidió nombrarlo \"Python\". ​\n",
    "\n",
    "En febrero de 1991, Guido lanzó la versión 0.9.0 de Python, que ya incluía características como clases con herencia, manejo de excepciones y los tipos de datos fundamentales como listas y cadenas de texto.\n",
    "\n",
    "Python 1.0 vio la luz en enero de 1994, introduciendo herramientas de programación funcional como lambda, map, filter y reduce. Estas funciones permitieron a los programadores escribir código más compacto y eficiente. ​\n",
    "\n",
    "El año 2000 marcó el lanzamiento de Python 2.0, que trajo consigo mejoras significativas como las listas por comprensión y un recolector de basura que gestionaba mejor la memoria. Además, se implementó un proceso de desarrollo más transparente y respaldado por la comunidad. ​\n",
    "\n",
    "En diciembre de 2008, se lanzó Python 3.0, una versión que no era compatible hacia atrás con las anteriores, pero que solucionaba muchos problemas y limpiaba aspectos del lenguaje. ​\n",
    "\n",
    "A lo largo de los años, Python ha evolucionado y se ha adaptado a las necesidades cambiantes de la tecnología. Su facilidad de uso y versatilidad lo han convertido en una herramienta esencial tanto para estudiantes como para profesionales en campos que van desde el desarrollo web hasta la inteligencia artificial.\n",
    "\n",
    "\n",
    "[Foreword for \"Programming Python\" (2nd ed.)](https://www.python.org/doc/essays/foreword2/)"
   ]
  }
 ],
 "metadata": {
  "kernelspec": {
   "display_name": "base",
   "language": "python",
   "name": "python3"
  },
  "language_info": {
   "name": "python",
   "version": "3.12.7"
  }
 },
 "nbformat": 4,
 "nbformat_minor": 2
}
