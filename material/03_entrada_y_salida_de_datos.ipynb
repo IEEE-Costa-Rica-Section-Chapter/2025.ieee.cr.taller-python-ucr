{
 "cells": [
  {
   "cell_type": "markdown",
   "metadata": {},
   "source": [
    "# **Taller de Python**\n",
    "\n",
    "**Tallerista:** Erick Andrés Obregón Fonseca.\n",
    "\n",
    "**Contacto:** [erickof@ieee.org](mailto:erickof@ieee.org)\n",
    "\n",
    "**Versión de Python:** 3.13.2"
   ]
  },
  {
   "cell_type": "markdown",
   "metadata": {},
   "source": [
    "# **Entrada y Salida de Datos en Python**\n",
    "\n",
    "## **1. Salida de datos: `print()`**\n",
    "\n",
    "Sirve para mostrar cosas en pantalla."
   ]
  },
  {
   "cell_type": "code",
   "execution_count": 3,
   "metadata": {},
   "outputs": [
    {
     "name": "stdout",
     "output_type": "stream",
     "text": [
      "¡Hola mundo!\n"
     ]
    }
   ],
   "source": [
    "print(\"¡Hola mundo!\")"
   ]
  },
  {
   "cell_type": "markdown",
   "metadata": {},
   "source": [
    "También se pueden mostrar variables o mezclar texto con valores:"
   ]
  },
  {
   "cell_type": "code",
   "execution_count": 5,
   "metadata": {},
   "outputs": [
    {
     "name": "stdout",
     "output_type": "stream",
     "text": [
      "Hola Erick\n"
     ]
    }
   ],
   "source": [
    "nombre = \"Erick\"\n",
    "print(\"Hola\", nombre)"
   ]
  },
  {
   "cell_type": "code",
   "execution_count": 6,
   "metadata": {},
   "outputs": [
    {
     "name": "stdout",
     "output_type": "stream",
     "text": [
      "Tu nota fue de 9.5 puntos\n"
     ]
    }
   ],
   "source": [
    "nota = 9.5\n",
    "print(\"Tu nota fue de\", nota, \"puntos\")"
   ]
  },
  {
   "cell_type": "markdown",
   "metadata": {},
   "source": [
    "## **2. Entrada de datos: `input()`**\n",
    "\n",
    "Sirve para pedirle algo al usuario (por teclado)."
   ]
  },
  {
   "cell_type": "code",
   "execution_count": 8,
   "metadata": {},
   "outputs": [
    {
     "name": "stdout",
     "output_type": "stream",
     "text": [
      "Hola Andrés\n"
     ]
    }
   ],
   "source": [
    "nombre = input(\"¿Cómo te llamás? \")\n",
    "print(\"Hola\", nombre)"
   ]
  },
  {
   "cell_type": "markdown",
   "metadata": {},
   "source": [
    "Todo lo que se escribe con `input()` llega como texto (`str`)."
   ]
  },
  {
   "cell_type": "code",
   "execution_count": 9,
   "metadata": {},
   "outputs": [
    {
     "data": {
      "text/plain": [
       "'27'"
      ]
     },
     "execution_count": 9,
     "metadata": {},
     "output_type": "execute_result"
    }
   ],
   "source": [
    "edad = input(\"¿Qué edad tenés? \")\n",
    "\n",
    "edad"
   ]
  },
  {
   "cell_type": "markdown",
   "metadata": {},
   "source": [
    "> **Error común:** Aplicar operaciones matemáticas a dos números que en realidad son cadenas de texto."
   ]
  },
  {
   "cell_type": "code",
   "execution_count": 10,
   "metadata": {},
   "outputs": [
    {
     "data": {
      "text/plain": [
       "'53'"
      ]
     },
     "execution_count": 10,
     "metadata": {},
     "output_type": "execute_result"
    }
   ],
   "source": [
    "num1 = input(\"Ingrese un número: \")\n",
    "num2 = input(\"Ingrese otro número: \")\n",
    "\n",
    "suma = num1 + num2\n",
    "\n",
    "suma"
   ]
  },
  {
   "cell_type": "code",
   "execution_count": 11,
   "metadata": {},
   "outputs": [
    {
     "ename": "TypeError",
     "evalue": "can't multiply sequence by non-int of type 'str'",
     "output_type": "error",
     "traceback": [
      "\u001b[1;31m---------------------------------------------------------------------------\u001b[0m",
      "\u001b[1;31mTypeError\u001b[0m                                 Traceback (most recent call last)",
      "Cell \u001b[1;32mIn[11], line 1\u001b[0m\n\u001b[1;32m----> 1\u001b[0m multiplicacion \u001b[38;5;241m=\u001b[39m \u001b[43mnum1\u001b[49m\u001b[43m \u001b[49m\u001b[38;5;241;43m*\u001b[39;49m\u001b[43m \u001b[49m\u001b[43mnum2\u001b[49m\n\u001b[0;32m      3\u001b[0m multiplicacion\n",
      "\u001b[1;31mTypeError\u001b[0m: can't multiply sequence by non-int of type 'str'"
     ]
    }
   ],
   "source": [
    "multiplicacion = num1 * num2\n",
    "\n",
    "multiplicacion"
   ]
  },
  {
   "cell_type": "markdown",
   "metadata": {},
   "source": [
    "Entonces... ¿Cómo solucionarlo?"
   ]
  },
  {
   "cell_type": "markdown",
   "metadata": {},
   "source": [
    "### **2.1. Convertir lo que escribe el usuario**\n",
    "\n",
    "Si se quiere un número (en lugar de un texto), hay que convertirlo:"
   ]
  },
  {
   "cell_type": "code",
   "execution_count": null,
   "metadata": {},
   "outputs": [],
   "source": [
    "# Convierte a entero\n",
    "edad = int(input(\"¿Qué edad tenés? \"))\n",
    "\n",
    "# Convierte a decimal\n",
    "altura = float(input(\"¿Cuánto medís? \"))"
   ]
  },
  {
   "cell_type": "code",
   "execution_count": 13,
   "metadata": {},
   "outputs": [
    {
     "data": {
      "text/plain": [
       "27"
      ]
     },
     "execution_count": 13,
     "metadata": {},
     "output_type": "execute_result"
    }
   ],
   "source": [
    "edad"
   ]
  },
  {
   "cell_type": "code",
   "execution_count": 16,
   "metadata": {},
   "outputs": [
    {
     "data": {
      "text/plain": [
       "'1.87'"
      ]
     },
     "execution_count": 16,
     "metadata": {},
     "output_type": "execute_result"
    }
   ],
   "source": [
    "altura"
   ]
  },
  {
   "cell_type": "markdown",
   "metadata": {},
   "source": [
    "> **Error común:** Convertir el texto de nuevo a texto (`str` a `str`).\n",
    "\n",
    "```python\n",
    "nombre = str(input(\"¿Cuál es tu nombre? \"))\n",
    "```"
   ]
  },
  {
   "cell_type": "markdown",
   "metadata": {},
   "source": [
    "## **3. ¿Qué es una f-string?**\n",
    "\n",
    "Una f-string es una forma moderna y fácil de mezclar texto con variables en una sola línea.\n",
    "\n",
    "Se escribe anteponiendo una `f` a la cadena de texto y usando llaves `{}` para insertar variables o expresiones."
   ]
  },
  {
   "cell_type": "code",
   "execution_count": 17,
   "metadata": {},
   "outputs": [],
   "source": [
    "nombre = \"Luis\"\n",
    "edad = 20"
   ]
  },
  {
   "cell_type": "code",
   "execution_count": null,
   "metadata": {},
   "outputs": [
    {
     "name": "stdout",
     "output_type": "stream",
     "text": [
      "Hola, mi nombre es Luis y tengo 20 años\n"
     ]
    }
   ],
   "source": [
    "print(\"Hola, mi nombre es\", nombre, \"y tengo\", edad, \"años\")"
   ]
  },
  {
   "cell_type": "code",
   "execution_count": 19,
   "metadata": {},
   "outputs": [
    {
     "name": "stdout",
     "output_type": "stream",
     "text": [
      "Hola, mi nombre es Luis y tengo 20 años\n"
     ]
    }
   ],
   "source": [
    "print(f\"Hola, mi nombre es {nombre} y tengo {edad} años\")"
   ]
  },
  {
   "cell_type": "markdown",
   "metadata": {},
   "source": [
    "### **3.1. Ventajas**\n",
    "\n",
    "1. Más limpio y fácil de leer.\n",
    "\n",
    "2. Se pueden hacer operaciones adentro de las llaves:"
   ]
  },
  {
   "cell_type": "code",
   "execution_count": 20,
   "metadata": {},
   "outputs": [
    {
     "name": "stdout",
     "output_type": "stream",
     "text": [
      "Total: 46.5 colones\n"
     ]
    }
   ],
   "source": [
    "precio = 15.5\n",
    "cantidad = 3\n",
    "\n",
    "print(f\"Total: {precio * cantidad} colones\")"
   ]
  },
  {
   "cell_type": "markdown",
   "metadata": {},
   "source": [
    "## **4. Ejercicio**\n",
    "\n",
    "Calcular el promedio de tres notas dadas por el usuario."
   ]
  },
  {
   "cell_type": "code",
   "execution_count": 22,
   "metadata": {},
   "outputs": [
    {
     "name": "stdout",
     "output_type": "stream",
     "text": [
      "El promedio  de las tres notas es: 8.0\n"
     ]
    }
   ],
   "source": [
    "nota1 = float(input(\"Ingrese la nota 1: \"))\n",
    "nota2 = float(input(\"Ingrese la nota 2: \"))\n",
    "nota3 = float(input(\"Ingrese la nota 3: \"))\n",
    "\n",
    "promedio = (nota1 + nota2 + nota3) / 3\n",
    "\n",
    "#print(f\"El promedio es: {promedio}\")\n",
    "\n",
    "print(f\"El promedio  de las tres notas es: {promedio}\")"
   ]
  }
 ],
 "metadata": {
  "kernelspec": {
   "display_name": "base",
   "language": "python",
   "name": "python3"
  },
  "language_info": {
   "codemirror_mode": {
    "name": "ipython",
    "version": 3
   },
   "file_extension": ".py",
   "mimetype": "text/x-python",
   "name": "python",
   "nbconvert_exporter": "python",
   "pygments_lexer": "ipython3",
   "version": "3.12.7"
  }
 },
 "nbformat": 4,
 "nbformat_minor": 2
}
