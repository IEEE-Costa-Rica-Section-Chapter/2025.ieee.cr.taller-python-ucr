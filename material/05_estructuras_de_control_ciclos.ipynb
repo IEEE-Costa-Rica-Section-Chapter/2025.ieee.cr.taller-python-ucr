{
 "cells": [
  {
   "cell_type": "markdown",
   "metadata": {},
   "source": [
    "# **Taller de Python**\n",
    "\n",
    "**Tallerista:** Erick Andrés Obregón Fonseca.\n",
    "\n",
    "**Contacto:** [erickof@ieee.org](mailto:erickof@ieee.org)\n",
    "\n",
    "**Versión de Python:** 3.13.2"
   ]
  },
  {
   "cell_type": "markdown",
   "metadata": {},
   "source": [
    "# **Repetir con ciclos: `while` y `for`**\n",
    "\n",
    "## **1. `while:` repetir mientras algo sea verdadero**\n",
    "\n",
    "Se repite hasta que la condición sea falsa.\n",
    "\n",
    "Ideal cuando no se sabe cuántas veces se va a repetir algo exactamente, pero depende de una condición.\n",
    "\n",
    "Estructura básica de un ciclo `while`:\n",
    "\n",
    "```python\n",
    "while (condicion):\n",
    "    # Codigo a repetir\n",
    "```\n"
   ]
  },
  {
   "cell_type": "code",
   "execution_count": 1,
   "metadata": {},
   "outputs": [
    {
     "name": "stdout",
     "output_type": "stream",
     "text": [
      "Contando: 1\n",
      "Contando: 2\n",
      "Contando: 3\n",
      "Contando: 4\n",
      "Contando: 5\n"
     ]
    }
   ],
   "source": [
    "contador = 1\n",
    "\n",
    "while contador <= 5:\n",
    "    print(\"Contando:\", contador)\n",
    "\n",
    "    # sumamos 1\n",
    "    contador += 1"
   ]
  },
  {
   "cell_type": "markdown",
   "metadata": {},
   "source": [
    "## **2. `for` con `range()`: repetir una cantidad fija de veces**\n",
    "\n",
    "> `range(inicio, fin, salto)` crea una secuencia de números de `inicio` hasta `fin - 1`, saltando de `salto` en `salto`.\n",
    "\n",
    "Estructura básica de un ciclo `for`\n",
    "\n",
    "```python\n",
    "for var in range(inicio, fin, salto):\n",
    "    # Codigo a repetir"
   ]
  },
  {
   "cell_type": "code",
   "execution_count": 3,
   "metadata": {},
   "outputs": [
    {
     "name": "stdout",
     "output_type": "stream",
     "text": [
      "Contando: 0\n",
      "Contando: 1\n",
      "Contando: 2\n",
      "Contando: 3\n",
      "Contando: 4\n",
      "Contando: 5\n"
     ]
    }
   ],
   "source": [
    "# inicio -> 0, fin -> 6, paso -> 1\n",
    "for contador in range(6):\n",
    "    print(\"Contando:\", contador)"
   ]
  },
  {
   "cell_type": "code",
   "execution_count": 5,
   "metadata": {},
   "outputs": [
    {
     "name": "stdout",
     "output_type": "stream",
     "text": [
      "1\n",
      "2\n",
      "3\n",
      "4\n",
      "5\n"
     ]
    }
   ],
   "source": [
    "# ¿Y si quiero empezar en otro numero?\n",
    "# inicio -> 1, fin -> 6, paso -> 1\n",
    "for i in range(1, 6):\n",
    "    print(i)\n"
   ]
  },
  {
   "cell_type": "code",
   "execution_count": 6,
   "metadata": {},
   "outputs": [
    {
     "name": "stdout",
     "output_type": "stream",
     "text": [
      "0\n",
      "2\n",
      "4\n",
      "6\n",
      "8\n",
      "10\n"
     ]
    }
   ],
   "source": [
    "# ¿Y si quiero saltar de dos en dos?\n",
    "for i in range(0, 11, 2):\n",
    "    print(i)"
   ]
  },
  {
   "cell_type": "markdown",
   "metadata": {},
   "source": [
    "## **3. ¿Cuándo usar cada uno?**\n",
    "\n",
    "|  Bucle  |                      ¿Cuándo se usa?                      |\n",
    "|:-------:|:---------------------------------------------------------:|\n",
    "| `while` | Cuando no se sabe cuántas veces vas a repetir algo exacto |\n",
    "|  `for`  |  Cuando se quiere repetir un número específico de veces   |"
   ]
  },
  {
   "cell_type": "markdown",
   "metadata": {},
   "source": [
    "## **4. `break` - Cortar el ciclo\"**\n",
    "\n",
    "Cuando Python encuentra un `break`, sale del bucle inmediatamente, aunque no haya terminado."
   ]
  },
  {
   "cell_type": "code",
   "execution_count": null,
   "metadata": {},
   "outputs": [
    {
     "name": "stdout",
     "output_type": "stream",
     "text": [
      "Hola, Erick!\n",
      "Hola, Andres!\n"
     ]
    }
   ],
   "source": [
    "# Esto se repite hasta que el usuario escriba \"salir\"\n",
    "while True:\n",
    "    nombre = input(\"Escribí tu nombre (o 'salir' para terminar): \")\n",
    "\n",
    "    if nombre == \"salir\":\n",
    "        break\n",
    "\n",
    "    print(f\"Hola, {nombre}!\")"
   ]
  },
  {
   "cell_type": "markdown",
   "metadata": {},
   "source": [
    "## **5. `continue` - Saltar esta vuelta**\n",
    "\n",
    "Cuando Python encuentra un `continue`, se salta el resto del código en esa vuelta del bucle y pasa a la siguiente."
   ]
  },
  {
   "cell_type": "code",
   "execution_count": 8,
   "metadata": {},
   "outputs": [
    {
     "name": "stdout",
     "output_type": "stream",
     "text": [
      "1\n",
      "2\n",
      "4\n",
      "5\n"
     ]
    }
   ],
   "source": [
    "# Cuando i vale 3, se salta el print().\n",
    "for i in range(1, 6):\n",
    "    if i == 3:\n",
    "        continue\n",
    "\n",
    "    print(i)"
   ]
  },
  {
   "cell_type": "markdown",
   "metadata": {},
   "source": [
    "### **6. Ejercicio: mostrar los múltiplos de 3, del 1 al 30**"
   ]
  },
  {
   "cell_type": "code",
   "execution_count": null,
   "metadata": {},
   "outputs": [],
   "source": []
  }
 ],
 "metadata": {
  "kernelspec": {
   "display_name": "base",
   "language": "python",
   "name": "python3"
  },
  "language_info": {
   "codemirror_mode": {
    "name": "ipython",
    "version": 3
   },
   "file_extension": ".py",
   "mimetype": "text/x-python",
   "name": "python",
   "nbconvert_exporter": "python",
   "pygments_lexer": "ipython3",
   "version": "3.12.7"
  }
 },
 "nbformat": 4,
 "nbformat_minor": 2
}
